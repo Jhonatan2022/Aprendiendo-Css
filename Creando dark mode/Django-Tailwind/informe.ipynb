{
 "cells": [
  {
   "attachments": {},
   "cell_type": "markdown",
   "metadata": {},
   "source": [
    "# Dark mode con Tailwind CSS en Django\n",
    "\n",
    "## Requisitos\n",
    "* Python Instalado: [Python](https://www.python.org/downloads/)\n",
    "* Node.js Instalado: [Node.js](https://nodejs.org/es/download/)\n",
    "\n",
    "## Instalación de Tailwin CSS con Django\n",
    "* Pasos: [Django with Tailwind](https://django-tailwind.readthedocs.io/en/latest/installation.html)\n",
    "\n",
    "## Webs Usadas\n",
    "* [Tailwind CSS](https://tailwindcss.com/)\n",
    "* [Django](https://www.djangoproject.com/)\n",
    "* [Django Tailwind](https://django-tailwind.readthedocs.io/en/latest/)"
   ]
  }
 ],
 "metadata": {
  "language_info": {
   "name": "python"
  },
  "orig_nbformat": 4
 },
 "nbformat": 4,
 "nbformat_minor": 2
}
