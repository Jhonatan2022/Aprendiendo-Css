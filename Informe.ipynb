{
 "cells": [
  {
   "cell_type": "markdown",
   "metadata": {},
   "source": [
    "# Usando Sass\n",
    "\n",
    "### Requisitos\n",
    "\n",
    "1. Descargar Nodejs la version LTS https://nodejs.org/es/\n",
    "\n",
    "![Imagenes\\node.png](Imagenes/node.png)\n",
    "\n",
    "2. Verificamos en consola la correcta instalación de nodejs y el npm (Gestor de paquetes de nodejs)\n",
    "\n",
    "![Imagenes\\verificacion.png](Imagenes/verificacion.png)\n",
    "\n",
    "### Instalación de Sass\n",
    "\n",
    "1. Digitamos en la consola ``npm install -g sass``\n",
    "\n",
    "![Imagenes\\sass.png](Imagenes/sass.png)\n",
    "\n",
    "2. Verificamos la correcta instalación de Sass\n",
    "\n",
    "![Imagenes\\sass%20instalado.png](Imagenes/sass%20instalado.png)\n",
    "\n",
    "3. Para que nuestro archivo .Scss funcione, tenemos que compilarlo, para ello nos dirigimos a la consola y digitamos ``sass --watch Sass.scss Sass.css``\n",
    "\n",
    "+ Watch nos sirve para que cada cambio que hagamos, se guarde y se compile automaticamente\n",
    "\n",
    "![Imagenes\\compilado.png](Imagenes/compilado.png)\n",
    "\n",
    "4. Para finalizar el proceso de compilación automaticas orpimimos ```ctrl + c`` en nuestra terminal\n"
   ]
  },
  {
   "cell_type": "markdown",
   "metadata": {},
   "source": [
    "```scss\n",
    "html{\n",
    "    background: #11e8bb; \n",
    "    background: -moz-linear-gradient(top,  #11e8bb 0%, #8200c9 100%);\n",
    "    background: -webkit-linear-gradient(top,  #11e8bb 0%,#8200c9 100%); \n",
    "    background: linear-gradient(to bottom,  #11e8bb 0%,#8200c9 100%); \n",
    "    overflow: hidden;\n",
    "}\n",
    "```"
   ]
  }
 ],
 "metadata": {
  "kernelspec": {
   "display_name": "Python 3.10.8 64-bit (microsoft store)",
   "language": "python",
   "name": "python3"
  },
  "language_info": {
   "codemirror_mode": {
    "name": "ipython",
    "version": 3
   },
   "file_extension": ".py",
   "mimetype": "text/x-python",
   "name": "python",
   "nbconvert_exporter": "python",
   "pygments_lexer": "ipython3",
   "version": "3.10.8"
  },
  "orig_nbformat": 4,
  "vscode": {
   "interpreter": {
    "hash": "32b0b8de4510fb14964ec073237d635686eb0a5f0536e805fd7148558b41c020"
   }
  }
 },
 "nbformat": 4,
 "nbformat_minor": 2
}
