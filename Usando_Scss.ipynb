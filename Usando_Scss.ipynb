{
 "cells": [
  {
   "cell_type": "markdown",
   "metadata": {},
   "source": [
    "# Implementando sass\n",
    "\n",
    "## Pasos a seguir\n",
    "\n",
    "1. Descargar Nodejs la version LTS https://nodejs.org/es/\n",
    "\n",
    "![Imagenes\\node.png](Imagenes/node.png)\n",
    "\n",
    "2. Verificamos en consola la correcta instalación de nodejs y el npm (Gestor de paquetes de nodejs)\n",
    "\n",
    "![Imagenes\\verificacion.png](Imagenes/verificacion.png)\n",
    "\n",
    "### Instalación de Sass\n",
    "\n",
    "1. Digitamos en la consola ``npm install -g sass``\n",
    "\n",
    "![Imagenes\\sass.png](Imagenes/sass.png)\n",
    "\n",
    "2. Verificamos la correcta instalación de Sass\n",
    "\n",
    "![Imagenes\\sass%20instalado.png](Imagenes/sass%20instalado.png)\n",
    "\n",
    "3. Para que nuestro archivo .Scss funcione, tenemos que compilarlo, para ello nos dirigimos a la consola y digitamos ``sass --watch Sass.scss Sass.css``\n",
    "\n",
    "+ Watch nos sirve para que cada cambio que hagamos, se guarde y se compile automaticamente\n",
    "\n",
    "![Imagenes\\compilado.png](Imagenes/compilado.png)\n",
    "\n",
    "4. Para finalizar el proceso de compilación automaticas orpimimos ```ctrl + c`` en nuestra terminal"
   ]
  }
 ],
 "metadata": {
  "kernelspec": {
   "display_name": "Python 3.10.8 64-bit",
   "language": "python",
   "name": "python3"
  },
  "language_info": {
   "name": "python",
   "version": "3.10.8"
  },
  "orig_nbformat": 4,
  "vscode": {
   "interpreter": {
    "hash": "472fbeedb143d593a450bd9e85487ed0b7b7bb937fd0ffdfb685f7804c557ff7"
   }
  }
 },
 "nbformat": 4,
 "nbformat_minor": 2
}
