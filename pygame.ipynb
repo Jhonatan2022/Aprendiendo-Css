{
 "cells": [
  {
   "cell_type": "markdown",
   "metadata": {},
   "source": [
    "# Creando juego con python pygame\n",
    "\n",
    "### Requisitos\n",
    "\n",
    "1. Tener python instalado https://www.python.org/downloads/\n",
    "\n",
    "2. Ingresar a la terminar y digitar ``python -m pip install pygame``\n",
    "\n",
    "+ En el siguiente código solo estamos creando una ventana en blanco con las medidas que le indicamso\n",
    "```py\n",
    "import pygame\n",
    "# Inicialización de Pygame\n",
    "pygame.init()\n",
    "# Inicialización de la superficie de dibujo\n",
    "ventana = pygame.display.set_mode((340,280))\n",
    "pygame.display.set_caption(\"Ejemplo 1\")\n",
    "# Bucle principal del juego\n",
    "jugando = True\n",
    "while jugando:\n",
    "    # Comprobamos los eventos\n",
    "    #Comprobamos si se ha pulsado el botón de cierre de la ventana\n",
    "    for event in pygame.event.get():\n",
    "        if event.type == pygame.QUIT:\n",
    "            jugando = False\n",
    "    # Se pinta la ventana con un color\n",
    "    # Esto borra los posibles elementos que teníamos anteriormente\n",
    "    ventana.fill((255, 255, 255))\n",
    "    # Todos los elementos del juego se vuelven a dibujar\n",
    "    pygame.display.flip()\n",
    "    # Controlamos la frecuencia de refresco (FPS)\n",
    "    pygame.time.Clock().tick(60)\n",
    "pygame.quit()\n",
    "```\n",
    "\n",
    "<hr color=\"000000\">\n",
    "\n",
    "#### Asi se veria\n",
    "\n",
    "![evidencia\\ventanablanca.png](evidencia/ventanablanca.png)"
   ]
  },
  {
   "cell_type": "code",
   "execution_count": null,
   "metadata": {},
   "outputs": [],
   "source": [
    "'''fruta= 'sossa desraciado'\n",
    "longitud = len(fruta)\n",
    "ultimo = fruta [longitud - 3]\n",
    "print (ultimo)'''"
   ]
  }
 ],
 "metadata": {
  "kernelspec": {
   "display_name": "Python 3.9.5 64-bit",
   "language": "python",
   "name": "python3"
  },
  "language_info": {
   "name": "python",
   "version": "3.9.5"
  },
  "orig_nbformat": 4,
  "vscode": {
   "interpreter": {
    "hash": "c347c8f9a7ef94e4c9e03b4513be7835ed18f45b99a2a817fb579f408b867b16"
   }
  }
 },
 "nbformat": 4,
 "nbformat_minor": 2
}
